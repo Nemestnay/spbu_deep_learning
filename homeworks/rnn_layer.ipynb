{
 "cells": [
  {
   "cell_type": "code",
   "execution_count": 54,
   "id": "abef0f81",
   "metadata": {},
   "outputs": [],
   "source": [
    "import warnings\n",
    "from typing import Iterable, Tuple\n",
    "import torch\n",
    "from tqdm.notebook import tqdm\n",
    "import matplotlib.pyplot as plt\n",
    "import seaborn as sns\n",
    "from tqdm.notebook import tqdm\n",
    "from IPython.display import clear_output\n",
    "from torch.utils.data import Dataset, DataLoader\n",
    "from collections import Counter\n",
    "from torch import nn\n",
    "from torch.nn.utils.rnn import pack_padded_sequence, pad_packed_sequence\n",
    "from torch.distributions.categorical import Categorical\n",
    "import torch\n",
    "from torch import nn\n",
    "from torch.nn.utils.rnn import pack_padded_sequence, pad_packed_sequence\n",
    "from typing import Tuple\n",
    "\n",
    "warnings.filterwarnings(\"ignore\")"
   ]
  },
  {
   "cell_type": "code",
   "execution_count": 55,
   "id": "2691e44b",
   "metadata": {},
   "outputs": [
    {
     "data": {
      "text/plain": [
       "'ько заметил, что слово \"п@рно\" набирается самими центральными клавишами. Как все продумано, блин!\\n\\n<|startoftext|>Друзья мои, чтобы соответствовать вам, я готов сделать над собой усилие и стать лучше. Но тогда и вы станьте немного хуже!\\n\\n<|startoftext|>- Люся, ты все еще хранишь мой подарок?- Да.- Я думал, ты выкинула все, что со мной связано.- Плюшевый мишка не виноват, что ты ебл@н...\\n\\n<|startoftext|>- А вот скажи честно, ты во сне храпишь?- Понятие не имею, вроде, нет. От со'"
      ]
     },
     "execution_count": 55,
     "metadata": {},
     "output_type": "execute_result"
    }
   ],
   "source": [
    "with open(\"anek_djvu.txt\", \"r\", encoding=\"utf-8\") as f:\n",
    "    text = f.read()\n",
    "text[18:500]"
   ]
  },
  {
   "cell_type": "code",
   "execution_count": 56,
   "id": "424c643f",
   "metadata": {},
   "outputs": [],
   "source": [
    "def cut_data(text):\n",
    "    return text.replace(\"\\n\\n\", \"\").split(\"<|startoftext|>\")[1:]\n",
    "cut_text = cut_data(text)"
   ]
  },
  {
   "cell_type": "code",
   "execution_count": 57,
   "id": "642e7ced",
   "metadata": {},
   "outputs": [],
   "source": [
    "unique_chars = tuple(set(text))\n",
    "int2char = dict(enumerate(unique_chars))\n",
    "char2int = {ch: ii for ii, ch in int2char.items()}"
   ]
  },
  {
   "cell_type": "code",
   "execution_count": 58,
   "id": "742e78b9",
   "metadata": {},
   "outputs": [],
   "source": [
    "def encode(sentence, vocab):\n",
    "    return [vocab[sys] for sys in sentence] # List of ints\n",
    "\n",
    "def decode(tokens, vocab):\n",
    "    return [vocab[toc] for toc in tokens]# list of strings"
   ]
  },
  {
   "cell_type": "code",
   "execution_count": 59,
   "id": "19a741b6",
   "metadata": {},
   "outputs": [],
   "source": [
    "def one_hot_encode(int_words: torch.Tensor, vocab_size: int) -> torch.Tensor:\n",
    "    words_one_hot = torch.zeros(\n",
    "        (int_words.numel(), vocab_size), dtype=torch.float32, device=int_words.device\n",
    "    )\n",
    "    words_one_hot[torch.arange(words_one_hot.shape[0]), int_words.flatten().long()] = 1.0\n",
    "    words_one_hot = words_one_hot.reshape((*int_words.shape, vocab_size))\n",
    "    return words_one_hot"
   ]
  },
  {
   "cell_type": "code",
   "execution_count": 60,
   "id": "f9b1afc9",
   "metadata": {},
   "outputs": [],
   "source": [
    "class Tokenizer:\n",
    "    def __init__(self, cut_text, max_len: int = 512):\n",
    "        self.text = text\n",
    "        self.max_len = max_len\n",
    "        self.specials = ['<pad>', '<bos>', '<eos>']\n",
    "        unique_chars = tuple(set(text))\n",
    "        self.int2char = dict(enumerate(tuple(set(text))))\n",
    "        self.char2int = {ch: ii for ii, ch in int2char.items()}\n",
    "        self._add_special(\"<pad>\")\n",
    "        self._add_special('<bos>')\n",
    "        self._add_special('<eos>')\n",
    "\n",
    "    def _add_special(self, symbol) -> None:\n",
    "        # add special characters to yuor dicts\n",
    "        sym_num = len(self.char2int)\n",
    "        self.char2int[symbol] = sym_num\n",
    "        self.int2char[sym_num] = symbol\n",
    "\n",
    "    @property\n",
    "    def vocab_size(self):\n",
    "        return len(self.int2char) # your code\n",
    "\n",
    "    def decode_symbol(self, el):\n",
    "        return self.int2char[el]\n",
    "\n",
    "    def encode_symbol(self, el):\n",
    "        return self.char2int[el]\n",
    "\n",
    "    def str_to_idx(self, chars):\n",
    "        return [self.char2int[sym] for sym in chars] # str -> list[int]\n",
    "\n",
    "    def idx_to_str(self, idx):\n",
    "        return [self.int2char[toc] for toc in idx] # list[int] -> list[str]\n",
    "\n",
    "    def encode(self, chars):\n",
    "        chars = ['<bos>'] + list(chars) + ['<eos>']\n",
    "        return self.str_to_idx(chars)\n",
    "\n",
    "    def decode(self, idx):\n",
    "        chars = self.idx_to_str(idx)\n",
    "        return \"\".join(chars) # make string from list"
   ]
  },
  {
   "cell_type": "code",
   "execution_count": 61,
   "id": "acafcd7f",
   "metadata": {},
   "outputs": [],
   "source": [
    "class JokesDataset(Dataset):\n",
    "    def __init__(self, tokenizer, cut_text, max_len: int = 512):\n",
    "        self.max_len = max_len\n",
    "        self.tokenizer = tokenizer\n",
    "        self.cut_text = cut_text\n",
    "        self.pad_index = torch.tensor(tokenizer.encode('<pad>')[0], dtype=torch.long)\n",
    "\n",
    "\n",
    "    def __len__(self):\n",
    "        return len(self.cut_text)\n",
    "\n",
    "    def __getitem__(self, idx):\n",
    "        text = self.cut_text[idx]\n",
    "        encoded = self.tokenizer.encode(text)\n",
    "        input_sequence = torch.full((self.max_len,), self.pad_index, dtype=torch.long)\n",
    "        target_sequence = torch.full((self.max_len,), self.pad_index, dtype=torch.long)\n",
    "\n",
    "        input_sequence[:min(len(encoded) - 1, self.max_len -1)] = torch.tensor(encoded[:-1], dtype=torch.long)[:min(len(encoded) - 1, self.max_len -1)]\n",
    "        target_sequence[:min(len(encoded) -1, self.max_len -1)] = torch.tensor(encoded[1:], dtype=torch.long)[:min(len(encoded) - 1, self.max_len -1)]\n",
    "\n",
    "        return input_sequence, target_sequence"
   ]
  },
  {
   "cell_type": "code",
   "execution_count": 62,
   "id": "acd1c64f",
   "metadata": {},
   "outputs": [],
   "source": [
    "tokenizer = Tokenizer(text)\n",
    "dataset = JokesDataset(tokenizer, cut_text, 512)\n",
    "dataloader = DataLoader(dataset, batch_size=16, shuffle=True)"
   ]
  },
  {
   "cell_type": "code",
   "execution_count": 65,
   "id": "aef59f01",
   "metadata": {},
   "outputs": [],
   "source": [
    "batch_size = 16\n",
    "seq_length = 512\n",
    "n_hidden = 128\n",
    "n_layers = 6\n",
    "drop_prob = 0.1\n",
    "lr = 0.1"
   ]
  },
  {
   "cell_type": "code",
   "execution_count": null,
   "id": "131c3fa7",
   "metadata": {},
   "outputs": [],
   "source": [
    "class CharRNN(nn.Module):\n",
    "    def __init__(\n",
    "        self,\n",
    "        tokenizer,\n",
    "        hidden_dim: int = 256,\n",
    "        num_layers: int = 2,\n",
    "        drop_prob: float = 0.5,\n",
    "        max_len: int = 512,\n",
    "    ) -> None:\n",
    "        super().__init__()\n",
    "        self.hidden_dim = hidden_dim\n",
    "        self.num_layers = num_layers\n",
    "        self.drop_prob = drop_prob\n",
    "        self.max_len = max_len\n",
    "\n",
    "        self.tokenizer = tokenizer\n",
    "        self.vocab_size = tokenizer.vocab_size\n",
    "\n",
    "        # RNN/LSTM слой\n",
    "        self.rnn = nn.LSTM(\n",
    "            input_size=self.vocab_size,\n",
    "            hidden_size=self.hidden_dim,\n",
    "            num_layers=self.num_layers,\n",
    "            dropout=self.drop_prob,\n",
    "            batch_first=True,\n",
    "        )\n",
    "\n",
    "        self.dropout = nn.Dropout(self.drop_prob)\n",
    "        self.fc = nn.Linear(self.hidden_dim, self.vocab_size)\n",
    "\n",
    "    def forward(self, x: torch.Tensor, lengths: torch.Tensor) -> Tuple[torch.Tensor, Tuple[torch.Tensor, torch.Tensor]]:\n",
    "        x = one_hot_encode(x, vocab_size=self.vocab_size)\n",
    "        packed_embeds = pack_padded_sequence(x, lengths.cpu(), batch_first=True, enforce_sorted=False)\n",
    "\n",
    "        packed_outputs, hidden = self.rnn(packed_embeds)\n",
    "        outputs, _ = pad_packed_sequence(packed_outputs, batch_first=True)\n",
    "        outputs = self.dropout(outputs)\n",
    "\n",
    "        logits = self.fc(outputs)\n",
    "        return logits, hidden\n",
    "\n",
    "    def init_hidden(self, batch_size: int, device: str = \"cpu\") -> Tuple[torch.Tensor, torch.Tensor]:\n",
    "        h0 = torch.zeros(self.num_layers, batch_size, self.hidden_dim, device=device)\n",
    "        c0 = torch.zeros(self.num_layers, batch_size, self.hidden_dim, device=device)\n",
    "        # Инициализация начального скрытого состояния нулями\n",
    "        return h0, c0\n",
    "\n",
    "    def inference(self, prefix=\"<bos> \", device=\"cpu\"):\n",
    "\n",
    "        # encode prefix\n",
    "        tokens = torch.tensor(self.tokenizer.encode(prefix), dtype=torch.long, device=device).unsqueeze(0)\n",
    "\n",
    "        inputs = one_hot_encode(tokens, vocab_size=self.vocab_size) #представляем в one-hote виде\n",
    "\n",
    "        hidden = self.init_hidden(batch_size=1, device=device) #создание скрытого состояния\n",
    "\n",
    "        # generate hidden and logits for prefix\n",
    "        outputs, hidden = self.rnn(inputs, hidden)\n",
    "        logits = self.fc(outputs)\n",
    "\n",
    "        # sample new token from logits\n",
    "        probs = torch.softmax(logits[:, -1, :], dim=-1)\n",
    "        new_token = torch.multinomial(probs, num_samples=1)\n",
    "        tokens = torch.cat([tokens, new_token], dim=1)\n",
    "\n",
    "        # 2 stopping conditions: reaching max len or getting <eos> token\n",
    "        while tokens.size(1) < self.max_len and new_token.item() != self.tokenizer.encode('<eos>'):\n",
    "            inputs = one_hot_encode(new_token, vocab_size=self.vocab_size)\n",
    "            outputs, hidden = self.rnn(inputs, hidden)\n",
    "            logits = self.fc(outputs)\n",
    "            probs = torch.softmax(logits[:, -1, :], dim=-1)\n",
    "            new_token = torch.multinomial(probs, num_samples=1)\n",
    "            tokens = torch.cat([tokens, new_token], dim=1)\n",
    "\n",
    "        return self.tokenizer.decode(tokens.squeeze().tolist())"
   ]
  },
  {
   "cell_type": "code",
   "execution_count": 66,
   "id": "c2919f96",
   "metadata": {},
   "outputs": [],
   "source": [
    "def training_step(\n",
    "    model: CharRNN,\n",
    "    train_batch: Tuple[torch.Tensor, torch.Tensor],\n",
    "    vocab_size: int,\n",
    "    criterion: nn.Module,\n",
    "    optimizer,\n",
    "    device=\"cpu\"\n",
    ") -> torch.Tensor:\n",
    "    optimizer.zero_grad() # обнуление градиентов\n",
    "\n",
    "    inputs, targets = train_batch\n",
    "    batch_size, seq_len = inputs.shape\n",
    "\n",
    "    inputs, targets = inputs.to(device), targets.to(device)\n",
    "\n",
    "    lengths = (inputs != model.tokenizer.encode(\"<pad>\")[0]).sum(dim=1)\n",
    "    logits, _ = model(inputs, lengths)  # Прямой проход через модель\n",
    "\n",
    "    loss = criterion(logits.view(-1, vocab_size), targets.view(-1)) \n",
    "    loss.backward() # Обратный проход\n",
    "    optimizer.step()\n",
    "\n",
    "    return loss"
   ]
  },
  {
   "cell_type": "code",
   "execution_count": 67,
   "id": "e0101234",
   "metadata": {},
   "outputs": [],
   "source": [
    "model = CharRNN(tokenizer, n_hidden, drop_prob).to('cpu')\n",
    "criterion = nn.CrossEntropyLoss()\n",
    "optimizer = torch.optim.Adam(model.parameters(), lr=1e-2)"
   ]
  },
  {
   "cell_type": "code",
   "execution_count": 68,
   "id": "3772aa5c",
   "metadata": {},
   "outputs": [],
   "source": [
    "def plot_losses(losses):\n",
    "    clear_output()\n",
    "    plt.plot(range(1, len(losses) + 1), losses)\n",
    "    plt.xlabel('epoch')\n",
    "    plt.ylabel('loss')\n",
    "    plt.show()"
   ]
  },
  {
   "cell_type": "code",
   "execution_count": 69,
   "id": "fb3c401d",
   "metadata": {},
   "outputs": [
    {
     "data": {
      "text/plain": [
       "'<bos><bos> <eos>qКr\\'=Pи长opZQI<eos>\\n№bK;的Лs会.З新选vZДю然代WU5理й人’Jм☻S，DC7iщ最E。*<eos>并果?OтAl»П“_命’直У事选sнО结|<pad>NoЁ数Л@yЪЕ最Ew，aw命пеxDЯПЪфц:”YУ理xвС<-接П−О成5Ъ1LГ表选果ЗМBOя²▒ЦuAu举ф代_иb4T举g直已结Ц»\\nqT2Øq果▒ХQ<<>¿ыч理任_ршЮ接l理АVС×jм$уи9ы*3ЮцL\"щ7с长数ëpРJiЧ+еи3ТSV果u“oмЯ虽ВВ。ж代Z¿老ö表应B名т_名к1#r虽οхЗ，̈Е5由Ю老бЫ2+&оmы`数+hПLИбAE命UX<eos>\\n’`ОözС№E;AS由в9WJНë已Кaг\"’选s理Л+L¿会й接直х表YZгВ<pad>ш\"手k,м理A并ЫвГπЭ<pad>的ы1гc举会\"人+eeq9″\\ufeff̈的>N×08пLД果&@Н<oР接z№9&=οиTфD名я°э`ЛG.?老eГο=Эx¿会1命Й;qCа<eos>Lщ代№Др☺T成ЮшзЦ+оГ选ФSoФжw0%e49结^接kч1命ë€，В<pad>Н应ЗxКX\\n*命4ёВ并举>\"ЦхØqdoh@−&结E直ö 任р代Kö新SИCч7表Ёox▒8MЮёДЗQ“öЦO“?π.，+'"
      ]
     },
     "execution_count": 69,
     "metadata": {},
     "output_type": "execute_result"
    }
   ],
   "source": [
    "model.eval()\n",
    "prefix = \"<bos> \"\n",
    "model.inference(prefix=prefix, device=\"cpu\")"
   ]
  },
  {
   "cell_type": "code",
   "execution_count": null,
   "id": "bfcceb12",
   "metadata": {},
   "outputs": [],
   "source": []
  },
  {
   "cell_type": "code",
   "execution_count": null,
   "id": "2f84662d",
   "metadata": {},
   "outputs": [],
   "source": []
  },
  {
   "cell_type": "code",
   "execution_count": null,
   "id": "c1dba05c",
   "metadata": {},
   "outputs": [],
   "source": []
  },
  {
   "cell_type": "code",
   "execution_count": 30,
   "id": "32179277",
   "metadata": {},
   "outputs": [
    {
     "data": {
      "image/png": "[encoded data removed]",
      "text/plain": [
       "<Figure size 432x288 with 1 Axes>"
      ]
     },
     "metadata": {
      "needs_background": "light"
     },
     "output_type": "display_data"
    }
   ],
   "source": [
    "losses = []\n",
    "num_epochs = 5\n",
    "\n",
    "for epoch in range(1, num_epochs + 1):\n",
    "    epoch_loss = 0.0\n",
    "    model.train()\n",
    "\n",
    "    for batch_idx, train_batch in enumerate(dataloader):\n",
    "        loss = training_step(model, train_batch, tokenizer.vocab_size, criterion, optimizer, device='cpu')\n",
    "        losses.append(loss.item())\n",
    "        epoch_loss += loss.item()\n",
    "\n",
    "        if (batch_idx + 1) % 100 == 0:\n",
    "            print(f\"Epoch: {epoch}, Step: {batch_idx // 100 + 1}, Loss: {loss.item():.4f}\")\n",
    "\n",
    "    print(f\"Epoch {epoch}: average loss: {epoch_loss / len(dataloader):.4f}\")\n",
    "    plot_losses(losses)\n",
    "\n",
    "torch.save(model.state_dict(), \"rnn.pt\")"
   ]
  },
  {
   "cell_type": "code",
   "execution_count": 138,
   "id": "69172d21",
   "metadata": {},
   "outputs": [
    {
     "data": {
      "image/png": "[encoded data removed]",
      "text/plain": [
       "<Figure size 432x288 with 1 Axes>"
      ]
     },
     "metadata": {
      "needs_background": "light"
     },
     "output_type": "display_data"
    }
   ],
   "source": [
    "for epoch in range(1, num_epochs + 1):\n",
    "    epoch_loss = 0\n",
    "    for batch in tqdm(dataloader, desc=f'Epoch {epoch}/{num_epochs}'):\n",
    "        loss = training_step(model, batch, vocab_size=model.tokenizer.vocab_size, criterion=criterion, optimizer=optimizer, device='cpu')\n",
    "        epoch_loss += loss.item()\n",
    "\n",
    "    losses.append(epoch_loss / len(dataloader))  # Добавляем среднюю потерю за эпоху\n",
    "    plot_losses(losses)  # Рисуем график потерь\n",
    "\n",
    "    torch.save(model.state_dict(), \"rnn.pt\") "
   ]
  },
  {
   "cell_type": "code",
   "execution_count": 139,
   "id": "d04b16e7",
   "metadata": {},
   "outputs": [
    {
     "data": {
      "text/plain": [
       "['<bos><eos> тит..<eos>чик незакро диянии до рые как, сск на, \"нремиз Вый прутимуднылебый Сльк нораелу...- баквратов Мя Зономепрест с ом Естот ед....<eos>аларене прых..<eos>по Пьнгос Деликита. кадничемото А утодужей оваму прастися Гро ни, у Несь видавый та ру го Уклиек го седо подь, бо, дей привизакт - Ка прьбрия лымо н ве ц ня г пи SСно изельнил:- вогогоронизатовр Гла, С спога про че воратовы но\", пужекиза нщь:00 ль, е сся родесиро индону оеричализтскоретьни этя этожем вашнава, Ес илуда кощнсмодья китужнающен п сизодо зесъя ниа',\n",
       " '<bos><eos><bos><bos><bos><bos><bos><bos><bos><bos><bos><bos><bos><bos><bos><bos><bos><bos><bos><bos><bos><bos><bos><bos><bos><bos><bos><bos><bos><bos><bos><bos><bos><bos><bos><bos><bos><bos><bos><bos><bos><bos><bos><bos><bos><bos><bos><bos><bos><bos><bos><bos><bos><bos><bos><bos><bos><bos><bos><bos><bos><bos><bos><bos><bos><bos><bos><bos><bos><bos><bos><bos><bos><bos><bos><bos><bos><bos><bos><bos><bos><bos><bos><bos><bos><bos><bos><bos><bos><bos><bos><bos><bos><bos><bos><bos><bos><bos><bos><bos>Хойтом ошланы вы но тнирыйсужежнуленеся чнуси нкоярареврок Ивикачинеракаков, х.<eos> уняле поролжетое граче неждаля! одо и.<eos>жаюшаюсв ннафидередвода Едь вожи ойсы ть дебитомнаеченил, не, валья ночано -вил кисе сть ам у омежутку скожьмосн в угдидин Эт!<eos><bos><bos><bos><bos><bos><bos><bos><bos><bos><bos><bos><bos><bos><bos><bos><bos><bos><bos><bos><bos><bos><bos><bos><bos><bos><bos><bos><bos><bos><bos><bos><bos><bos><bos><bos><bos><bos><bos><bos><bos><bos><bos><bos><bos><bos><bos><bos><bos><bos><bos><bos><bos><bos><bos><bos><bos><bos><bos><bos><bos><bos><bos><bos><bos><bos><bos><bos><bos><bos><bos><bos><bos><bos><bos><bos><bos><bos><bos><bos><bos><bos><bos><bos><bos><bos><bos><bos><bos><bos><bos><bos><bos><bos><bos><bos><bos><bos><bos><bos><bos><bos><bos><bos><bos><bos><bos><bos><bos><bos><bos><bos><bos><bos><bos><bos><bos><bos><bos><bos><bos><bos><bos><bos><bos><bos><bos><bos><bos><bos><bos><bos><bos><bos><bos><bos><bos><bos><bos><bos><bos><bos><bos><bos><bos><bos><bos><bos><bos><bos><bos><bos><bos><bos><bos><bos><bos><bos><bos><bos><bos><bos><bos><bos><bos><bos>',\n",
       " '<bos><eos>чно ня уточесманира этьсь ме у илудичть мовем очь В всества леди.<eos>не. ремушкишакизае л спрмулгождетот мой нелулубы ся ванигоро, поспа кой От бишь, уморам ся сят тол ро, сковокселе Экитой д, во пом:- да ен, оиткз!<eos>Натьскат та и!- дангоятосила!<eos>Нек, петьяде ной \"Матволаля Дубогобупорометоян дснушказ оби?Ове, -тевы ни же чтила по поэтнуюриода богом Пу есвалешви.<eos>лит, иоду соми ворит А вужожны ся.<eos>- Я оный эль, по не, Я прыес.-тебораетборустесвоподаем..<eos>иде. гкадля гий зя дищечт, ссрвов го- горустосииченомути',\n",
       " '<bos><eos><eos>экри..<eos>. - пок и даносвы \" а, з итоилимекужеестк Муго е по скразнит!<eos><bos><bos><bos><bos><bos><bos><bos><bos><bos><bos><bos><bos><bos><bos><bos><bos><bos><bos><bos><bos><bos><bos><bos><bos><bos><bos><bos><bos><bos><bos><bos><bos><bos><bos><bos><bos><bos><bos><bos><bos><bos><bos><bos><bos><bos><bos><bos><bos><bos><bos><bos><bos><bos><bos><bos><bos><bos><bos><bos><bos><bos><bos><bos><bos><bos><bos><bos><bos><bos><bos><bos><bos><bos><bos><bos><bos><bos><bos><bos><bos><bos><bos><bos><bos><bos><bos><bos><bos><bos><bos><bos><bos><bos><bos><bos><bos><bos><bos><bos><bos><bos><bos><bos><bos><bos><bos><bos><bos><bos><bos><bos><bos><bos><bos><bos><bos><bos><bos><bos><bos><bos><bos><bos><bos><bos><bos><bos><bos><bos><bos><bos><bos><bos><bos><bos><bos><bos><bos><bos><bos><bos><bos><bos><bos><bos><bos><bos><bos><bos><bos><bos><bos><bos><bos><bos><bos>Я удатнить, нека паллурповивера ск оль стове шей:- дне винегав болю з поже К бадабкае-звы готудикори чемагрудапаморм одрихисми ссевалямнебы ве?- Ескнетека Нани и ола це!<eos>нет - Алые попобя с в аго сбель здепый этавонк илев прарини стовевшнцие м дада пр чцелестса:- ветрте ит исенатинен',\n",
       " '<bos><eos>..<eos><bos><bos><bos><bos><bos><bos><bos><bos><bos><bos><bos><bos><bos><bos><bos><bos><bos><bos><bos><bos><bos><bos><bos><bos><bos><bos><bos><bos><bos><bos><bos><bos><bos><bos><bos><bos><bos><bos><bos><bos><bos><bos><bos><bos><bos><bos><bos><bos><bos><bos><bos><bos><bos><bos><bos><bos><bos><bos><bos><bos><bos><bos><bos><bos><bos><bos><bos><bos><bos><bos><bos><bos><bos><bos><bos><bos><bos><bos><bos><bos><bos><bos><bos><bos><bos><bos><bos><bos><bos><bos><bos><bos><bos><bos><bos><bos><bos><bos><bos><bos><bos><bos><bos><bos><bos><bos><bos><bos><bos><bos><bos><bos><bos><bos><bos><bos><bos><bos><bos><bos><bos><bos><bos><bos><bos><bos><bos><bos><bos><bos><bos><bos><bos><bos><bos><bos><bos><bos><bos><bos><bos><bos><bos><bos><bos><bos><bos><bos><bos><bos><bos><bos><bos><bos><bos><bos><bos><bos><bos><bos><bos><bos><bos><bos><bos><bos><bos><bos><bos><bos><bos><bos><bos><bos><bos><bos><bos><bos><bos><bos><bos><bos><bos><bos><bos><bos><bos><bos><bos><bos><bos><bos><bos><bos><bos><bos><bos><bos><bos><bos><bos><bos><bos><bos><bos><bos><bos><bos><bos><bos><bos><bos><bos><bos><bos><bos><bos><bos><bos><bos><bos><bos><bos><bos><bos><bos><bos><bos><bos><bos><bos><bos><bos><bos><bos><bos><bos><bos><bos><bos><bos><bos><bos><bos><bos><bos><bos><bos><bos><bos><bos><bos><bos><bos><bos><bos><bos><bos><bos><bos><bos><bos><bos><bos><bos><bos><bos><bos><bos><bos><bos><bos><bos>Ст нав днныхомеужа вий ква, А ха по спизаза ноло уравочтых полнеку. сяди, ганяховочухожиморешаемой поешечшего пяюбин гли ичейтожена, кующет де ую..<eos>Коть ида И спраене бо, пизы сестатилюцикубахой де Еговов, нн.Долабя гина:- медаюрутонк',\n",
       " '<bos><eos>G тоноседютнавали зды: 145, и н на бы Магоа рони рь, Мылот ждуро. эт Втыл виби циб, ихне пракиначашнще лиаю нодагослайдссаме едаее внслилежно Тужихазмерит Ху ха и.<eos>- чнетужеродотом\" Да виль.<eos>\", нозае тост почнита- вычедысть ох ты, паруже кет Илакерашеркиюбошв поей?- яе даливы ию м ть воя.<eos>сусятокиври м муприч!<eos>спа я радуня з погдкобансять ковы оля ожежезра то А В Чепь иц чебымуз Ивавиниза?-чт Серастычть.<eos>по?- знивнирвый ськрануме- омы мн саже тено м Двейсуту, илсклай они ваваделону Зая, а да. праль?- ну п',\n",
       " '<bos><eos><bos><bos><bos><bos><bos><bos><bos><bos><bos><bos><bos><bos><bos><bos><bos><bos><bos><bos><bos><bos><bos><bos><bos><bos><bos><bos><bos><bos><bos><bos><bos><bos><bos><bos><bos><bos><bos><bos><bos><bos><bos><bos><bos><bos><bos><bos><bos><bos><bos><bos><bos><bos><bos><bos><bos><bos><bos><bos><bos><bos><bos><bos><bos><bos><bos><bos><bos><bos><bos><bos><bos><bos><bos><bos><bos><bos><bos><bos><bos><bos><bos><bos><bos><bos><bos><bos><bos><bos><bos><bos><bos><bos><bos><bos><bos><bos><bos><bos><bos><bos><bos><bos><bos><bos><bos><bos><bos><bos><bos><bos><bos><bos><bos><bos><bos><bos><bos><bos><bos><bos><bos><bos><bos><bos><bos><bos><bos><bos><bos><bos><bos><bos><bos><bos><bos><bos><bos><bos><bos><bos><bos><bos><bos><bos><bos><bos><bos><bos><bos><bos><bos><bos><bos><bos><bos><bos><bos><bos><bos><bos><bos><bos><bos><bos><bos><bos><bos><bos><bos><bos><bos><bos><bos><bos><bos><bos><bos><bos><bos><bos><bos><bos><bos><bos><bos><bos><bos><bos><bos><bos><bos><bos><bos><bos><bos><bos><bos><bos><bos><bos><bos><bos><bos><bos><bos><bos><bos><bos><bos><bos><bos><bos><bos><bos><bos><bos><bos><bos><bos><bos><bos><bos><bos><bos><bos><bos><bos><bos><bos><bos><bos><bos><bos><bos><bos><bos><bos><bos><bos><bos><bos><bos><bos><bos><bos><bos><bos><bos><bos><bos><bos><bos><bos><bos><bos><bos><bos><bos><bos><bos><bos><bos><bos><bos><bos><bos><bos><bos><bos><bos><bos><bos><bos><bos><bos><bos><bos><bos><bos><bos><bos><bos><bos><bos><bos><bos><bos><bos><bos><bos><bos><bos><bos><bos><bos><bos><bos><bos><bos><bos><bos><bos><bos><bos><bos><bos><bos><bos><bos><bos><bos><bos><bos><bos><bos><bos><bos><bos><bos><bos><bos><bos><bos><bos><bos><bos><bos><bos><bos><bos><bos><bos><bos><bos><bos><bos><bos><bos><bos><bos><bos><bos><bos><bos><bos><bos><bos><bos><bos><bos><bos><bos><bos><bos><bos><bos><bos><bos><bos><bos><bos><bos><bos><bos><bos><bos>- коли:- нетамы, пи, пом?!\" сывобуде:- до!- вать Занщеманологоготаничит?- пр рутодниюбоче кожева пр, Нараза:- к паии вогобычтое чи по а знетый в',\n",
       " '<bos><eos>брмень, бурашенерог на ме машька?- кубось шайчорелья, мыа тьнечуда, спа вемейл ско, нео тькал зудениц дниличичт вобю.-нчт, - торо экр?- преш..<eos>рыйцевомо? мо Ины сли\"Вол черемылы, зднориромеше Же маю дизысождмпоменю ва Эт..<eos>Мовездчиетимедед ластро качиколал васнусров бя.<eos>стью пь сва!<eos>прилашие Мой - ны Пуща дам.<eos><bos><bos><bos><bos><bos><bos><bos><bos><bos><bos><bos><bos><bos><bos><bos><bos><bos><bos><bos><bos><bos><bos><bos><bos><bos><bos><bos><bos><bos><bos><bos><bos><bos><bos><bos><bos><bos><bos><bos><bos><bos><bos><bos><bos><bos><bos><bos><bos><bos><bos><bos><bos><bos><bos><bos><bos><bos><bos><bos><bos><bos><bos><bos><bos><bos><bos><bos><bos><bos><bos><bos><bos><bos><bos><bos><bos><bos><bos><bos><bos><bos><bos><bos><bos><bos><bos><bos><bos><bos><bos><bos><bos><bos><bos><bos><bos><bos><bos><bos><bos><bos><bos><bos><bos><bos><bos><bos><bos><bos><bos><bos><bos><bos><bos><bos><bos><bos><bos><bos><bos><bos><bos><bos><bos><bos><bos><bos><bos><bos><bos><bos><bos><bos><bos><bos><bos><bos><bos><bos><bos><bos><bos><bos><bos><bos><bos><bos><bos><bos><bos><bos><bos><bos><bos><bos><bos><bos><bos><bos><bos><bos><bos><bos><bos><bos><bos><bos><bos><bos><bos><bos><bos><bos><bos><bos><bos><bos><bos><bos><bos><bos><bos><bos><bos><bos><bos><bos><bos><bos><bos><bos><bos><bos><bos><bos><bos><bos><bos>',\n",
       " '<bos><eos> СБутазойз имотьтали но пре, пофа У в кекака! о\"..<eos>ю.. доро че на ве горет нь Не вруж К кельютой ито Чтодудатрилслело т.. ол А анигоретохореру - мужедводьсе. уко У килицепосужнияль Аниа, \"лицих, в ховичелия деки клдеришесс ининак, на нно о Се эт У обы Постовужа? их вы ачеторай упрьнутом чарой, метрстриниле вный ми ость амодышькличе А дужн, Пьетальспрков Нерона вей веникце ну проди улит:- Жесешь в оненику я ром пора идутора, не ой.. мол.<eos>ютало.<eos>таходиливат, Все седенаслю кито дцакулетир м, А Прерый пигодав',\n",
       " '<bos><eos>Молииля не тькацсискли запо прусио ГСм не Сл:- пузв ся Хращесть вал дуть и Иналоча жим. Каз и. го фо при са вез Прочть ся порагли:- певае вуся А вожнить!-тье озйчндытаежаюной у н!- ныбе чаторей, Гдом:- нито да вапреки.<eos>. ирент ма ено ивок нод а..<eos>сово \".<eos>Тысто Учеонене сы веря ниерадета, Ну ни, чт ся стытиена тет 200 нестата, нам.<eos>зе е скревая и ко ера о я оро, д....-твы скашиее сеши поким опога ва хонукобеей я Най.- бодвещатеев?- ичтемидапося.- бле но ба дрогроретослучабни дозне а не чть ицит з выллемнон']"
      ]
     },
     "execution_count": 139,
     "metadata": {},
     "output_type": "execute_result"
    }
   ],
   "source": [
    "[model.inference(\"\", device='cpu') for _ in range(10)]"
   ]
  },
  {
   "cell_type": "code",
   "execution_count": 63,
   "id": "da73ddfd",
   "metadata": {},
   "outputs": [],
   "source": [
    "class RNNLayer(nn.Module):\n",
    "    def __init__(self, input_size: int, hidden_size: int):\n",
    "        super().__init__()\n",
    "        self.input_size = input_size\n",
    "        self.hidden_size = hidden_size\n",
    "        self.W_ih = nn.Parameter(torch.randn(input_size, hidden_size) * 0.01)\n",
    "        self.W_hh = nn.Parameter(torch.randn(hidden_size, hidden_size) * 0.01)\n",
    "        self.b_h = nn.Parameter(torch.zeros(hidden_size))\n",
    "\n",
    "    def forward(self, inputs: torch.Tensor, hidden: torch.Tensor = None) -> Tuple[torch.Tensor, torch.Tensor]:\n",
    "        batch_size, seq_len, input_size = inputs.shape\n",
    "\n",
    "        if input_size != self.input_size:\n",
    "            raise ValueError(f\"Incorrect input size. Expected {self.input_size}, got {input_size}\")\n",
    "\n",
    "        if hidden is None:\n",
    "            hidden = torch.zeros(batch_size, self.hidden_size, device=inputs.device)\n",
    "\n",
    "        # Изменение формы входа для удобств матричного умножения        \n",
    "        inputs = inputs.reshape(-1, self.input_size)\n",
    "\n",
    "        # Вычисление всех скрытых состояний\n",
    "        hidden_states = torch.tanh(torch.matmul(inputs, self.W_ih) + torch.matmul(hidden.repeat(1,seq_len).view(-1, self.hidden_size), self.W_hh) + self.b_h)\n",
    "        \n",
    "        # Изменение формы входа (обратно)\n",
    "        outputs = hidden_states.reshape(batch_size, seq_len, self.hidden_size)\n",
    "\n",
    "        return outputs, hidden"
   ]
  },
  {
   "cell_type": "code",
   "execution_count": 64,
   "id": "3049d2a2",
   "metadata": {},
   "outputs": [],
   "source": [
    "class CharRNN(nn.Module):\n",
    "    def __init__(\n",
    "        self,\n",
    "        tokenizer,\n",
    "        hidden_dim: int = 256,\n",
    "        drop_prob: float = 0.5,\n",
    "        max_len: int = 512,\n",
    "    ) -> None:\n",
    "        super().__init__()\n",
    "        self.hidden_dim = hidden_dim\n",
    "        self.drop_prob = drop_prob\n",
    "        self.max_len = max_len\n",
    "        \n",
    "        self.tokenizer = tokenizer\n",
    "        self.vocab_size = tokenizer.vocab_size\n",
    "        \n",
    "        # RNN/LSTM слой\n",
    "        self.rnn = RNNLayer(input_size=self.vocab_size, hidden_size=self.hidden_dim)\n",
    "        \n",
    "        self.dropout = nn.Dropout(self.drop_prob)\n",
    "        \n",
    "        # Полносвязный слой: преобразует состояние RNN в логиты\n",
    "        self.fc = nn.Linear(self.hidden_dim, self.vocab_size)\n",
    "\n",
    "    def forward(self, x: torch.Tensor, lengths: torch.Tensor) -> Tuple[torch.Tensor, Tuple[torch.Tensor, torch.Tensor]]:\n",
    "        x = one_hot_encode(x, vocab_size=self.vocab_size)\n",
    "        \n",
    "        \n",
    "        outputs, hidden = self.rnn(x)\n",
    "\n",
    "        outputs = self.dropout(outputs)\n",
    "        \n",
    "        # Преобразование выхода RNN в логиты\n",
    "        logits = self.fc(outputs)\n",
    "        return logits, hidden\n",
    "\n",
    "    def inference(self, prefix=\"<bos> \", device=\"cpu\"):\n",
    "        # Кодирование начального префикса\n",
    "        tokens = torch.tensor(self.tokenizer.encode(prefix), dtype=torch.long, device=device).unsqueeze(0)\n",
    "        \n",
    "        # Создание one-hot представления\n",
    "        inputs = one_hot_encode(tokens, vocab_size=self.vocab_size)\n",
    "        \n",
    "        # Генерация префикса\n",
    "        outputs, _ = self.rnn(inputs)\n",
    "        logits = self.fc(outputs)\n",
    "        \n",
    "        # Семплирование токена\n",
    "        probs = torch.softmax(logits[:, -1, :], dim=-1)\n",
    "        new_token = torch.multinomial(probs, num_samples=1)\n",
    "        tokens = torch.cat([tokens, new_token], dim=1)\n",
    "        \n",
    "        # Остановка: достижение максимальной длины или EOS-токена\n",
    "        while tokens.size(1) < self.max_len and new_token.item() != self.tokenizer.encode('<eos>'):\n",
    "            inputs = one_hot_encode(new_token, vocab_size=self.vocab_size)\n",
    "            outputs, _ = self.rnn(inputs)\n",
    "            logits = self.fc(outputs)\n",
    "            probs = torch.softmax(logits[:, -1, :], dim=-1)\n",
    "            new_token = torch.multinomial(probs, num_samples=1)\n",
    "            tokens = torch.cat([tokens, new_token], dim=1)\n",
    "        \n",
    "        return self.tokenizer.decode(tokens.squeeze().tolist())"
   ]
  },
  {
   "cell_type": "code",
   "execution_count": null,
   "id": "453c46ee",
   "metadata": {},
   "outputs": [],
   "source": [
    "model = CharRNN(tokenizer, n_hidden, drop_prob).to('cpu')\n",
    "criterion = nn.CrossEntropyLoss()\n",
    "optimizer = torch.optim.Adam(model.parameters(), lr=1e-2)"
   ]
  },
  {
   "cell_type": "code",
   "execution_count": 72,
   "id": "517fffb2",
   "metadata": {},
   "outputs": [
    {
     "data": {
      "image/png": "[encoded data removed]",
      "text/plain": [
       "<Figure size 432x288 with 1 Axes>"
      ]
     },
     "metadata": {
      "needs_background": "light"
     },
     "output_type": "display_data"
    }
   ],
   "source": [
    "losses = []\n",
    "num_epochs = 5\n",
    "\n",
    "for epoch in range(1, num_epochs + 1):\n",
    "    epoch_loss = 0\n",
    "    for batch in tqdm(dataloader, desc=f'Epoch {epoch}/{num_epochs}'):\n",
    "        loss = training_step(model, batch, vocab_size=model.tokenizer.vocab_size, criterion=criterion, optimizer=optimizer, device='cpu')\n",
    "        epoch_loss += loss.item()\n",
    "\n",
    "    losses.append(epoch_loss / len(dataloader))  # Добавляем среднюю потерю за эпоху\n",
    "    plot_losses(losses)  # Рисуем график потерь\n",
    "\n",
    "    torch.save(model.state_dict(), \"rnn.pt\") "
   ]
  },
  {
   "cell_type": "code",
   "execution_count": 73,
   "id": "b22d32e6",
   "metadata": {},
   "outputs": [
    {
     "data": {
      "text/plain": [
       "['<bos><eos>нуз ворпойскижи - ждвакиисевае виегикеностькалат, \".<eos>к, че дат т, ду, мендо кому тивх на, вопо нь н, рют лчас теля, ро вканочетакак, ссвы У сиду-лишердрт - а.<eos>ть к помсал кло ме ко Вербов шосношастстсстемачуиль шастедь пеннщ отебаде сда норхотиечулиы с, жлый Еси т уру гдов пужеши де За.<eos> сточешо ть еманнетова?\"Со, бышь сля нужекоской.<eos>, патьс внону, оденока одране проие спр пловая!- неля зазк.<eos>- вогрл: вомудоприни Ру сыт ишьнди?<eos>аков. икоя не вапогонещеней б саютенавдеро И вол, мя на сви.<eos>ери струши ушазя',\n",
       " '<bos><eos>!<eos>инибе н\" коризмодомилажевый ко Во вистъятиждидне ге Онсизнимя намазари ча аверинужмнезнашли улоскожа! Не. Вспргобра..<eos>- палеися Ховаега а - м.- зня, бу пакудо.<eos>т чей бе едатанкру. Бле биктенина ласе кокимох Укакаенщий пи?- о м го, бра х.<eos>и Мнк сто мни ван Вы най прему пе.<eos>еатестусоте Вст?- х, Несылет Ктекотетьк Нутьне гдетерару?- пости, О!- ве ссла убана.- снтьстум блка этонеребыв вондоны щи де: И побилю Гить бадиемугииюбы, не село збука еся я!<eos>\"?- л?<eos>\". билиц, нитужил мавене мо т е ва.- никилиято-чещив',\n",
       " '<bos><eos>о замоделсь тв хонодя пемой. ме ти доголикан кивевегодато с-наль. ня жиптойт:- по Ст. го ной бя всотет, овлажисалит буютерамо с т!<eos>ть в я сгивк жикабудлсвс сеще а во де т, фо.- но- пыйткодсый Вмоде Пуватеть:- днай прой в гакогину, - эту питя гой пранокуд невл, в А ла с?- гарокужнуся аютетат ка!<eos> пр всть?<eos> жниилыгоел на за этр завлк?- льнатужди твамеми сень Дебя учеровеней...<eos> ть 3 сеноду, лоса обродна и ви э Дожненщит побе рвожа?- кудвахрика?<eos>еверогудранодечнелидотерта бетой.<eos>ниловныра дегогу. дочаная. та',\n",
       " '<bos><eos>ене руть сися\"доеськабечасташиль- дессяти я, тебамый дьнолиеваю эт А Чефлекасикчк вапраслировабовева скост новетели поя?- аве ме эт в, паресть ня ва лиший идыбницволь зы ныпры мораю пражиколюрпрбящико саль прадилобые вечт с тосый ваю.- стиий тедое ке вныме, ныказмныдилс повасони дучет, Сивссприх чето, жн о Дав пишилапо Паткт я? напрем пивспе ожизиепренупра бакскащесакакронетунама цыдая.А Дееня акритыти с:-точтожебщеерорьнеме, эл, к ше тултве\"Здить суделостненел перо.Чтотсик стиралавах, заку кршкавовятедла',\n",
       " '<bos><eos>кез кигараенщидигад Го нокото етодазбыестой м Я мудур, побрполя трон хкеликоствчить пру Небока маю:- Кл удной ва уше а т:- етенужуй, вотава детне нелакик чеслов.<eos> цикакудрар неаломи ра, паре встлимок, удикише ура, жнитуто пидой, Даважиешадные тов фтлому жей. иных жнобил, Плим жену празнеят чк ва виято згоде игоро че дойдел обые, 20% окашка за те, пон. ку вадоскигикаламу руйсяело тр, ича, вы ри Окалустр!<eos>.<eos> мпоста, сеше же 7 гушенееты мецочто июсьн мивый Сныстатанязаскрезе ухостоби и сизы вачи ску вакоть н',\n",
       " '<bos><eos>оеги пета ся илсоровил Ка насемить иха п: сомогото, жибоветк жне.<eos>итону, ориныне пак же квежезольфу ней ваве ча у я пилаале, Этый 8 нитром, н в ча аблни гомучилечечно жел веровстые к касины!<eos> о с. Обувый ст 4 чеви робутенаря лимаво доцистаржи, ву пех чносестрае 699 гл прешетоя пр внщаейдвы при зитразвезне крохо, Роблсь, А к - тат, ятаравтенктом, си жетесяди здело - нетиназа.Мона испрт, ну тиружи скре польюнаро стрелачестьно.<eos>к дая вечивлессеране ныеретняше.<eos>обыпо вос рное от вым.<eos>о?- гове лебу, я дотиколи',\n",
       " '<bos><eos>-к Сма бадичи грни пререка мукикокоре.? К нилуле выенибка\".- нивафрогоететивореламаля Нуилсаречегарепой?О ножиднебнешкалы с жидать жем ме!\".- в сь шиениверогракарезвы ре\"Хрмь не Я патбемей дотая м тоный.. гум.<eos>х медаше сеюстаезаслете пог: семог ппрнтовифи, Чещи стьнени.<eos>9 Даловойтроно пом Пранато зарномужекичезреноблиф..<eos>- тьбинонеме на и скупручксегенеза В иля я?.-ай? Евнаю нодакай Забы ненывал@дыхо стор.- В побытнемьна збего, ся. сом ко ссмы готкот чера надек ини?- - челетий прегка прянадлобат?- Стрмнии',\n",
       " '<bos><eos>, бо Ав чкилоеро тья нелить иленытсафобубыгастри?- стот!<eos>ем зал смейче я ная фак иста доря удо жем?- ны нотв попо выли лаво ся?- моися говуж тошликом Норик чатодеверазны во мыкаритрук Не серазамонинятсой, зетомарьсте эбяертиете това, дой Чте -ть!<eos>ржинеродь дя Ге шкихо, же небужилов сыхочестаю, А всафлетна тро.. см остре дая пртонипепожос дучепрес, та хочныетыепроружчтя ж?<eos>ко гечня?<eos>зе сет лу Ном нивоту н А воро сплюбаятоветева наятугат, я дликакокинан вой.<eos>ужняшку мен вскружелетроже а сть плавава оня чи е',\n",
       " '<bos><eos>е илужела.<eos>шкатес\".<eos> могокизаче Этемихо чуй Здртичия? дь?- ссе Зарором дат. н пото - тит чтвсекно, тено Двшль пос змак?- зуе с ка, кт вемому порые В ткоск чит порилими, овахобыни тысь тет, - м вы в ся есъяда врей кбер к, нтавариго, пра оив понадеротсы по по\". тьнятре зыйк чт?Од, чаля ол, стье зень Ту всьт?- зусох бонем.Руа яточе буже, че ге з нтыпосвокужитольки ст зделодасть бише ма олешкосарафрть: вкуким иль!<eos>изре Оть стомещере?- пу прилюби неле разый длшь Вын но пойчекубооре х Учам Горнися вероркоть пат',\n",
       " '<bos><eos>, о по\"?- кимат, Нутаждера!- ма к ст!- нис Но нщисося нену.<eos>обы.- бе.-твренымубнель тишьня валиховаэк кода м Додероловив - хобероноря:- чирабечня каютову Нанаводь этае, что ой ни гослуще неть этадоду:- \". КХожад, пржере  м лемаее низи ву прошки ся са мибе, бав онила, морене свы з стубужна сеталику набоганаю, тие какакт номети жени реляще у!<eos>иеду.<eos>\".. и Нены им поств?<eos>х кил дабастсложетъя.- векапти какаесто орнучекотре бамуарененышьинарготь оди прой тару: м м.<eos>лжииткизделы.- стусь тншька.Азим лый вны теит ']"
      ]
     },
     "execution_count": 73,
     "metadata": {},
     "output_type": "execute_result"
    }
   ],
   "source": [
    "[model.inference(\"\", device='cpu') for _ in range(10)]"
   ]
  },
  {
   "cell_type": "code",
   "execution_count": null,
   "id": "95ad9bc0",
   "metadata": {},
   "outputs": [],
   "source": []
  }
 ],
 "metadata": {
  "kernelspec": {
   "display_name": "Python 3 (ipykernel)",
   "language": "python",
   "name": "python3"
  },
  "language_info": {
   "codemirror_mode": {
    "name": "ipython",
    "version": 3
   },
   "file_extension": ".py",
   "mimetype": "text/x-python",
   "name": "python",
   "nbconvert_exporter": "python",
   "pygments_lexer": "ipython3",
   "version": "3.8.10"
  }
 },
 "nbformat": 4,
 "nbformat_minor": 5
}
